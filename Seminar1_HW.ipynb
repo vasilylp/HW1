{
 "cells": [
  {
   "cell_type": "markdown",
   "metadata": {
    "colab_type": "text",
    "id": "7lPyzNzeLIOj"
   },
   "source": [
    "## Домашнее задание 1"
   ]
  },
  {
   "cell_type": "markdown",
   "metadata": {},
   "source": [
    "### Оформляйте ноутбук, используя эти советы:\n",
    "-  Номер задачи - заголовок 2\n",
    "-  Номер подзадачи - заголовок 3 <br>\n",
    "Предоставленные наборы данных оформляйте, как код"
   ]
  },
  {
   "cell_type": "markdown",
   "metadata": {
    "colab_type": "text",
    "id": "awb1K2hlLIOl"
   },
   "source": [
    "## Домашнее задание 2\n"
   ]
  },
  {
   "cell_type": "markdown",
   "metadata": {},
   "source": [
    "На складе лежат разные фрукты в разном количестве. Нужно написать функцию, которая на вход принимает любое\n",
    "количество названий фруктов и их количество, а возвращает общее количество фруктов на складе"
   ]
  },
  {
   "cell_type": "code",
   "execution_count": 19,
   "metadata": {},
   "outputs": [],
   "source": [
    "def stock(**kwargs):\n",
    "    total = 0\n",
    "    for value in kwargs.values():\n",
    "        total += value\n",
    "    print(f'Total stock = {total} ')"
   ]
  },
  {
   "cell_type": "code",
   "execution_count": 20,
   "metadata": {},
   "outputs": [
    {
     "name": "stdout",
     "output_type": "stream",
     "text": [
      "Total stock = 260 \n"
     ]
    }
   ],
   "source": [
    "stock(яблоки = 50, груши = 40, бананы = 60, апельсины = 30, киви = 60, ананасы = 20)"
   ]
  },
  {
   "cell_type": "code",
   "execution_count": 5,
   "metadata": {},
   "outputs": [
    {
     "name": "stdout",
     "output_type": "stream",
     "text": [
      "Total stock = 260 \n"
     ]
    }
   ],
   "source": [
    "def total_fruts(**kwargs): # вариант 2\n",
    "    return sum(kwargs.values())\n",
    "print(f'Total stock = {total_fruts(яблоки = 50, груши = 40, бананы = 60, апельсины = 30, киви = 60, ананасы = 20)} ')"
   ]
  },
  {
   "cell_type": "markdown",
   "metadata": {},
   "source": [
    "## Домашнее задание 3"
   ]
  },
  {
   "cell_type": "markdown",
   "metadata": {},
   "source": [
    "Дан список с затратами на рекламу. Но в данных есть ошибки, некоторые затраты имеют отрицательную величину. Удалите\n",
    "такие значения из списка и посчитайте суммарные затраты \n"
   ]
  },
  {
   "cell_type": "code",
   "execution_count": 22,
   "metadata": {},
   "outputs": [
    {
     "data": {
      "text/plain": [
       "[100, 125, -90, 345, 655, -1, 0, 200]"
      ]
     },
     "execution_count": 22,
     "metadata": {},
     "output_type": "execute_result"
    }
   ],
   "source": [
    "[100, 125, -90, 345, 655, -1, 0, 200]"
   ]
  },
  {
   "cell_type": "markdown",
   "metadata": {},
   "source": [
    "Используйте list comprehensions"
   ]
  },
  {
   "cell_type": "code",
   "execution_count": 7,
   "metadata": {},
   "outputs": [],
   "source": [
    "advertising_costs = [100, 125, -90, 345, 655, -1, 0, 200]"
   ]
  },
  {
   "cell_type": "code",
   "execution_count": 8,
   "metadata": {},
   "outputs": [
    {
     "name": "stdout",
     "output_type": "stream",
     "text": [
      "Total costs = 1425 \n"
     ]
    }
   ],
   "source": [
    "total_costs = 0 # решение через цикл\n",
    "for i in advertising_costs:\n",
    "    if i > 0:\n",
    "        total_costs += i\n",
    "print(f'Total costs = {total_costs} ')"
   ]
  },
  {
   "cell_type": "code",
   "execution_count": 9,
   "metadata": {},
   "outputs": [
    {
     "name": "stdout",
     "output_type": "stream",
     "text": [
      "Total costs = 1,425 руб.\n"
     ]
    }
   ],
   "source": [
    "total_costs = sum(i for i in advertising_costs if i > 0) # решение через list comprehensions\n",
    "print('Total costs = {:,.0f} руб.'.format(total_costs))"
   ]
  },
  {
   "cell_type": "code",
   "execution_count": 20,
   "metadata": {},
   "outputs": [
    {
     "data": {
      "text/plain": [
       "1425"
      ]
     },
     "execution_count": 20,
     "metadata": {},
     "output_type": "execute_result"
    }
   ],
   "source": [
    "sum(num for num in advertising_costs if num >= 0) # вариант 2"
   ]
  },
  {
   "cell_type": "markdown",
   "metadata": {},
   "source": [
    "## Домашнее задание 4"
   ]
  },
  {
   "cell_type": "markdown",
   "metadata": {},
   "source": [
    "### Даны два списка.<br>\n",
    "Дата покупки"
   ]
  },
  {
   "cell_type": "code",
   "execution_count": 13,
   "metadata": {},
   "outputs": [],
   "source": [
    "data_list = ['2021-09-14', '2021-12-15', '2021-09-08', '2021-12-05', '2021-10-09', '2021-09-30', '2021-12-22', '2021-11-29',\n",
    "             '2021-12-24', '2021-11-26', '2021-10-27', '2021-12-18', '2021-11-09', '2021-11-23', '2021-09-27','2021-10-02',\n",
    "             '2021-12-27', '2021-09-20', '2021-12-13', '2021-11-01', '2021-11-09', '2021-12-06', '2021-12-08', '2021-10-09',\n",
    "             '2021-10-31', '2021-09-30', '2021-11-09', '2021-12-13', '2021-10-26', '2021-12-09']"
   ]
  },
  {
   "cell_type": "markdown",
   "metadata": {},
   "source": [
    "Суммы покупок по датам"
   ]
  },
  {
   "cell_type": "code",
   "execution_count": 14,
   "metadata": {},
   "outputs": [],
   "source": [
    "sum_list = [1270, 8413, 9028, 3703, 5739, 4095, 295, 4944, 5723, 3701, 4471, 651, 7037, 4274, 6275, 4988, 6930, 2971, 6592,\n",
    "            2004, 2822, 519, 3406, 2732, 5015, 2008, 316, 6333, 5700, 2887]"
   ]
  },
  {
   "cell_type": "markdown",
   "metadata": {},
   "source": [
    "### 4.1 Найдите, какая выручка у компании в ноябре"
   ]
  },
  {
   "cell_type": "markdown",
   "metadata": {},
   "source": [
    "Используйте list comprehensions"
   ]
  },
  {
   "cell_type": "code",
   "execution_count": 15,
   "metadata": {},
   "outputs": [
    {
     "name": "stdout",
     "output_type": "stream",
     "text": [
      "Revenue in November = 25,098 руб.\n"
     ]
    }
   ],
   "source": [
    "november = '-11-' # решение через цикл\n",
    "# matched_indexes = [] \n",
    "revenue_november = 0\n",
    "i = 0 \n",
    "length = len(data_list)\n",
    "while i < length: \n",
    "    if november in data_list[i]:\n",
    "#         matched_indexes.append(i)\n",
    "        revenue_november+= sum_list[i]\n",
    "    i += 1\n",
    "# print(matched_indexes)\n",
    "print('Revenue in November = {:,.0f} руб.'.format(revenue_november)) "
   ]
  },
  {
   "cell_type": "code",
   "execution_count": 16,
   "metadata": {},
   "outputs": [
    {
     "name": "stdout",
     "output_type": "stream",
     "text": [
      "Revenue in November = 25,098 руб.\n"
     ]
    }
   ],
   "source": [
    "revenue_november = sum([sum_list[i] for i in range(len(data_list)) if '-11-' in data_list[i]]) # решение через list comprehensions\n",
    "print('Revenue in November = {:,.0f} руб.'.format(revenue_november)) "
   ]
  },
  {
   "cell_type": "markdown",
   "metadata": {},
   "source": [
    "\n",
    "### 4.2 Найдите выручку компании в зависимости от месяца"
   ]
  },
  {
   "cell_type": "markdown",
   "metadata": {},
   "source": [
    "Для этого напишите функцию, которая на вход принимает список с датами и список с выручкой, а на выходе словарь, где\n",
    "ключи - это месяцы, а значения - это выручка.<br>\n",
    "Используйте аннотирование типов."
   ]
  },
  {
   "cell_type": "code",
   "execution_count": 17,
   "metadata": {},
   "outputs": [
    {
     "data": {
      "text/plain": [
       "{'september': 25647, 'october': 28645, 'november': 25098, 'december': 45452}"
      ]
     },
     "execution_count": 17,
     "metadata": {},
     "output_type": "execute_result"
    }
   ],
   "source": [
    "def revenue_month(dat_l: list, sum_l: list)-> dict:  # решение для всех месяцев года\n",
    "    revenue_sum_month = {}\n",
    "    january = '-01-'\n",
    "    sum_j = 0\n",
    "    february = '-02-'\n",
    "    sum_f = 0\n",
    "    march = '-03-'\n",
    "    sum_m = 0\n",
    "    april = '-04-'\n",
    "    sum_a = 0\n",
    "    may = '-05-'\n",
    "    sum_may = 0\n",
    "    june = '-06-'\n",
    "    sum_jun = 0\n",
    "    july = '-07-'\n",
    "    sum_jul = 0\n",
    "    august = '-08-'\n",
    "    sum_aug = 0\n",
    "    september = '-09-'\n",
    "    sum_sep = 0\n",
    "    october = '-10-'\n",
    "    sum_oct = 0\n",
    "    november = '-11-'\n",
    "    sum_nov = 0\n",
    "    december = '-12-'\n",
    "    sum_dec = 0\n",
    "    i = 0\n",
    "    length = len(data_list)\n",
    "    while i < length:\n",
    "        if january in dat_l[i]:\n",
    "            sum_j += sum_l[i]\n",
    "        elif february in dat_l[i]:\n",
    "            sum_f += sum_l[i]\n",
    "        elif march in dat_l[i]:\n",
    "            sum_m += sum_l[i]\n",
    "            sum_a += sum_l[i]\n",
    "        elif may in dat_l[i]:\n",
    "            sum_may += sum_l[i]\n",
    "        elif june in dat_l[i]:\n",
    "            sum_jun += sum_l[i]\n",
    "        elif july in dat_l[i]:\n",
    "            sum_jul += sum_l[i]\n",
    "        elif august in dat_l[i]:\n",
    "            sum_aug += sum_l[i]\n",
    "        elif september in dat_l[i]:\n",
    "            sum_sep += sum_l[i]\n",
    "        elif october in dat_l[i]:\n",
    "            sum_oct += sum_l[i]\n",
    "        elif november in dat_l[i]:\n",
    "            sum_nov += sum_l[i]\n",
    "        elif december in dat_l[i]:\n",
    "            sum_dec += sum_l[i]\n",
    "        i += 1\n",
    "    revenue_sum_month[\"january\"] = sum_j\n",
    "    revenue_sum_month[\"february\"] = sum_f\n",
    "    revenue_sum_month[\"march\"] = sum_m\n",
    "    revenue_sum_month[\"april\"] = sum_a\n",
    "    revenue_sum_month[\"may\"] = sum_may\n",
    "    revenue_sum_month[\"june\"] = sum_jun\n",
    "    revenue_sum_month[\"july\"] = sum_jul\n",
    "    revenue_sum_month[\"august\"] = sum_aug\n",
    "    revenue_sum_month[\"september\"] = sum_sep\n",
    "    revenue_sum_month[\"october\"] = sum_oct\n",
    "    revenue_sum_month[\"november\"] = sum_nov\n",
    "    revenue_sum_month[\"december\"] = sum_dec\n",
    "    for key,value in list(revenue_sum_month.items()):        \n",
    "        if revenue_sum_month[key] == 0:\n",
    "            del revenue_sum_month[key]\n",
    "    return revenue_sum_month\n",
    "\n",
    "revenue_month(data_list, sum_list)\n"
   ]
  },
  {
   "cell_type": "code",
   "execution_count": 21,
   "metadata": {},
   "outputs": [],
   "source": [
    "def months_purchases(keys: list, values: list)-> dict:    # вариант 2\n",
    "    dict_res = {}\n",
    "    for i in range(len(keys)):\n",
    "        month = keys[i][5:7]\n",
    "        if month not in dict_res:\n",
    "            dict_res[month] = values[i]\n",
    "        else:\n",
    "            dict_res[month] += values[i]\n",
    "    return dict_res\n",
    "                "
   ]
  },
  {
   "cell_type": "code",
   "execution_count": 19,
   "metadata": {},
   "outputs": [
    {
     "name": "stdout",
     "output_type": "stream",
     "text": [
      "{'09': 25647, '12': 45452, '10': 28645, '11': 25098}\n"
     ]
    }
   ],
   "source": [
    "print(months_purchases(data_list,sum_list))"
   ]
  }
 ],
 "metadata": {
  "colab": {
   "collapsed_sections": [
    "t6Fgb0AkLIPK",
    "s2K0_TThLIPR",
    "WyhA3ipeLIPU",
    "Clfo7jhOLIPY",
    "U9glCsGCLIPb",
    "CHz6UIKyLIPi",
    "ZZehpNQuLIPm",
    "kwWQ1al2LIPr",
    "qnWdcLseLIP_",
    "BnxMhHlDLIQB",
    "ZxMi6_58LIQG",
    "6q6JEgziLIQK",
    "3NglY6CQLIQN",
    "oWERt2BRLIQR",
    "Q0u91-MILIQX",
    "nIgc10tKLIQc",
    "3FocVZkgLIQn",
    "vVhNCrtLLIQs",
    "BPQ5R-PkLIQ2",
    "HCE0aq_BLIQ7"
   ],
   "name": "jun_anl_data_structures.ipynb",
   "provenance": []
  },
  "kernelspec": {
   "display_name": "Python 3 (ipykernel)",
   "language": "python",
   "name": "python3"
  },
  "language_info": {
   "codemirror_mode": {
    "name": "ipython",
    "version": 3
   },
   "file_extension": ".py",
   "mimetype": "text/x-python",
   "name": "python",
   "nbconvert_exporter": "python",
   "pygments_lexer": "ipython3",
   "version": "3.9.12"
  }
 },
 "nbformat": 4,
 "nbformat_minor": 1
}
